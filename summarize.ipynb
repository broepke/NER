{
  "cells": [
    {
      "cell_type": "code",
      "execution_count": 14,
      "metadata": {
        "colab": {},
        "colab_type": "code",
        "id": "Evyx4nWcGVvb"
      },
      "outputs": [],
      "source": [
        "import spacy\n",
        "nlp = spacy.load(\"en_core_web_sm\")\n",
        "from spacy.lang.en.stop_words import STOP_WORDS\n",
        "from string import punctuation\n",
        "from collections import Counter\n",
        "from heapq import nlargest"
      ]
    },
    {
      "cell_type": "markdown",
      "metadata": {},
      "source": [
        "https://medium.com/analytics-vidhya/text-summarization-using-spacy-ca4867c6b744"
      ]
    },
    {
      "cell_type": "code",
      "execution_count": 15,
      "metadata": {
        "colab": {
          "base_uri": "https://localhost:8080/",
          "height": 120
        },
        "colab_type": "code",
        "id": "egKMNcBjGVvl",
        "outputId": "bba6729b-da24-48a4-ca7d-1bfa09edaa40"
      },
      "outputs": [],
      "source": [
        "doc = \"\"\"Federal Reserve policymakers on Wednesday said they will cut back on their stimulus more quickly at a moment of rapid inflation and strong economic growth, capping a challenging year with a pronounced policy pivot that could usher in higher interest rates in 2022. A policy statement released by the central bank detailed a more rapid end to the monthly bond-buying that the Fed has been using throughout the pandemic to keep money chugging through markets and to bolster growth, just as a fresh set of economic projections showed that policymakers expect to raise interest rates three times next year. When it comes to the bond-buying program, officials are slashing their purchases by twice as much as they had announced last month, a pace that would put them on track to end the program altogether in March. That decision came “in light of inflation developments and the further improvement in the labor market,” according to the policy statement. Fed Chair Jerome H. Powell, speaking at a news conference following the Fed's meeting, said a “strengthening labor market and elevated inflation pressures” prompted the central bank to speed up the reductions in asset purchases. “Economic developments and changes in the outlook warrant this evolution,” Mr. Powell said. He noted that supply chain disruptions have been larger and lasted longer than expected and said price gains will likely continue well into next year. Ending the bond-buying program sooner will position the central bank to more quickly raise its policy interest rate — the Fed's more traditional and more powerful tool — if officials decide that doing so is necessary to keep inflation under control. The Fed's economic projections suggested a faster pace of rate increases as the economy recovers. Rates are currently set near-zero and officials project rates to stand at 2.1 percent at the end of 2024. “With inflation having exceeded 2 percent for some time, the committee expects it will be appropriate to maintain this target range until labor market conditions have reached levels consistent with the committee's assessments of maximum employment,” the Fed said in its new statement — putting the onus for rate increases squarely on labor market progress.\"\"\"\n",
        "doc = nlp(doc)"
      ]
    },
    {
      "cell_type": "code",
      "execution_count": 17,
      "metadata": {
        "colab": {
          "base_uri": "https://localhost:8080/",
          "height": 34
        },
        "colab_type": "code",
        "id": "h474C6u0GVvv",
        "outputId": "8581263a-205a-4907-8bb5-2d4a6beed2d5"
      },
      "outputs": [
        {
          "data": {
            "text/plain": [
              "11"
            ]
          },
          "execution_count": 17,
          "metadata": {},
          "output_type": "execute_result"
        }
      ],
      "source": [
        "len(list(doc.sents))"
      ]
    },
    {
      "cell_type": "code",
      "execution_count": 27,
      "metadata": {
        "colab": {},
        "colab_type": "code",
        "id": "e0xv3nQtGVvz"
      },
      "outputs": [
        {
          "data": {
            "text/plain": [
              "['Federal',\n",
              " 'Reserve',\n",
              " 'policymakers',\n",
              " 'Wednesday',\n",
              " 'said',\n",
              " 'cut',\n",
              " 'stimulus',\n",
              " 'moment',\n",
              " 'rapid',\n",
              " 'inflation',\n",
              " 'strong',\n",
              " 'economic',\n",
              " 'growth',\n",
              " 'capping',\n",
              " 'challenging',\n",
              " 'year',\n",
              " 'pronounced',\n",
              " 'policy',\n",
              " 'pivot',\n",
              " 'usher',\n",
              " 'higher',\n",
              " 'interest',\n",
              " 'rates',\n",
              " 'policy',\n",
              " 'statement',\n",
              " 'released',\n",
              " 'central',\n",
              " 'bank',\n",
              " 'detailed',\n",
              " 'rapid',\n",
              " 'end',\n",
              " 'monthly',\n",
              " 'bond',\n",
              " 'buying',\n",
              " 'Fed',\n",
              " 'pandemic',\n",
              " 'money',\n",
              " 'chugging',\n",
              " 'markets',\n",
              " 'bolster',\n",
              " 'growth',\n",
              " 'fresh',\n",
              " 'set',\n",
              " 'economic',\n",
              " 'projections',\n",
              " 'showed',\n",
              " 'policymakers',\n",
              " 'expect',\n",
              " 'raise',\n",
              " 'interest',\n",
              " 'rates',\n",
              " 'times',\n",
              " 'year',\n",
              " 'comes',\n",
              " 'bond',\n",
              " 'buying',\n",
              " 'program',\n",
              " 'officials',\n",
              " 'slashing',\n",
              " 'purchases',\n",
              " 'announced',\n",
              " 'month',\n",
              " 'pace',\n",
              " 'track',\n",
              " 'end',\n",
              " 'program',\n",
              " 'March',\n",
              " 'decision',\n",
              " 'came',\n",
              " 'light',\n",
              " 'inflation',\n",
              " 'developments',\n",
              " 'improvement',\n",
              " 'labor',\n",
              " 'market',\n",
              " 'according',\n",
              " 'policy',\n",
              " 'statement',\n",
              " 'Fed',\n",
              " 'Chair',\n",
              " 'Jerome',\n",
              " 'H.',\n",
              " 'Powell',\n",
              " 'speaking',\n",
              " 'news',\n",
              " 'conference',\n",
              " 'following',\n",
              " 'Fed',\n",
              " 'meeting',\n",
              " 'said',\n",
              " 'strengthening',\n",
              " 'labor',\n",
              " 'market',\n",
              " 'elevated',\n",
              " 'inflation',\n",
              " 'pressures',\n",
              " 'prompted',\n",
              " 'central',\n",
              " 'bank',\n",
              " 'speed',\n",
              " 'reductions',\n",
              " 'asset',\n",
              " 'purchases',\n",
              " 'Economic',\n",
              " 'developments',\n",
              " 'changes',\n",
              " 'outlook',\n",
              " 'warrant',\n",
              " 'evolution',\n",
              " 'Mr.',\n",
              " 'Powell',\n",
              " 'said',\n",
              " 'noted',\n",
              " 'supply',\n",
              " 'chain',\n",
              " 'disruptions',\n",
              " 'larger',\n",
              " 'lasted',\n",
              " 'expected',\n",
              " 'said',\n",
              " 'price',\n",
              " 'gains',\n",
              " 'continue',\n",
              " 'year',\n",
              " 'Ending',\n",
              " 'bond',\n",
              " 'buying',\n",
              " 'program',\n",
              " 'position',\n",
              " 'central',\n",
              " 'bank',\n",
              " 'raise',\n",
              " 'policy',\n",
              " 'interest',\n",
              " 'rate',\n",
              " 'Fed',\n",
              " 'traditional',\n",
              " 'powerful',\n",
              " 'tool',\n",
              " 'officials',\n",
              " 'decide',\n",
              " 'necessary',\n",
              " 'inflation',\n",
              " 'control',\n",
              " 'Fed',\n",
              " 'economic',\n",
              " 'projections',\n",
              " 'suggested',\n",
              " 'faster',\n",
              " 'pace',\n",
              " 'rate',\n",
              " 'increases',\n",
              " 'economy',\n",
              " 'recovers',\n",
              " 'Rates',\n",
              " 'set',\n",
              " 'officials',\n",
              " 'project',\n",
              " 'rates',\n",
              " 'stand',\n",
              " 'percent',\n",
              " 'end',\n",
              " 'inflation',\n",
              " 'exceeded',\n",
              " 'percent',\n",
              " 'time',\n",
              " 'committee',\n",
              " 'expects',\n",
              " 'appropriate',\n",
              " 'maintain',\n",
              " 'target',\n",
              " 'range',\n",
              " 'labor',\n",
              " 'market',\n",
              " 'conditions',\n",
              " 'reached',\n",
              " 'levels',\n",
              " 'consistent',\n",
              " 'committee',\n",
              " 'assessments',\n",
              " 'maximum',\n",
              " 'employment',\n",
              " 'Fed',\n",
              " 'said',\n",
              " 'new',\n",
              " 'statement',\n",
              " 'putting',\n",
              " 'onus',\n",
              " 'rate',\n",
              " 'increases',\n",
              " 'labor',\n",
              " 'market',\n",
              " 'progress']"
            ]
          },
          "execution_count": 27,
          "metadata": {},
          "output_type": "execute_result"
        }
      ],
      "source": [
        "keyword = []\n",
        "stopwords = list(STOP_WORDS)\n",
        "pos_tag = ['PROPN', 'ADJ', 'NOUN', 'VERB']\n",
        "for token in doc:\n",
        "    if(token.text in stopwords or token.text in punctuation):\n",
        "        continue\n",
        "    if(token.pos_ in pos_tag):\n",
        "        keyword.append(token.text)\n",
        "keyword"
      ]
    },
    {
      "cell_type": "code",
      "execution_count": 19,
      "metadata": {
        "colab": {
          "base_uri": "https://localhost:8080/",
          "height": 34
        },
        "colab_type": "code",
        "id": "44Hv6zXZGVv2",
        "outputId": "d06e7273-17b2-416d-f1c2-9adf41b0b60a"
      },
      "outputs": [
        {
          "name": "stdout",
          "output_type": "stream",
          "text": [
            "[('Fed', 6), ('said', 5), ('inflation', 5), ('policy', 4), ('labor', 4)]\n"
          ]
        }
      ],
      "source": [
        "freq_word = Counter(keyword)\n",
        "print(freq_word.most_common(5))"
      ]
    },
    {
      "cell_type": "code",
      "execution_count": 20,
      "metadata": {
        "colab": {
          "base_uri": "https://localhost:8080/",
          "height": 34
        },
        "colab_type": "code",
        "id": "k6NnKLqBb9CA",
        "outputId": "6a254565-6ef6-4335-921f-4f8286dc5a59"
      },
      "outputs": [
        {
          "data": {
            "text/plain": [
              "collections.Counter"
            ]
          },
          "execution_count": 20,
          "metadata": {},
          "output_type": "execute_result"
        }
      ],
      "source": [
        "type(freq_word)"
      ]
    },
    {
      "cell_type": "code",
      "execution_count": 21,
      "metadata": {
        "colab": {
          "base_uri": "https://localhost:8080/",
          "height": 101
        },
        "colab_type": "code",
        "id": "Jd_ejyiZGVv7",
        "outputId": "661f1110-76b8-4318-8fd3-ca87d606be18"
      },
      "outputs": [
        {
          "data": {
            "text/plain": [
              "[('Fed', 1.0),\n",
              " ('said', 0.8333333333333334),\n",
              " ('inflation', 0.8333333333333334),\n",
              " ('policy', 0.6666666666666666),\n",
              " ('labor', 0.6666666666666666)]"
            ]
          },
          "execution_count": 21,
          "metadata": {},
          "output_type": "execute_result"
        }
      ],
      "source": [
        "max_freq = Counter(keyword).most_common(1)[0][1]\n",
        "for word in freq_word.keys():  \n",
        "        freq_word[word] = (freq_word[word]/max_freq)\n",
        "freq_word.most_common(5)"
      ]
    },
    {
      "cell_type": "code",
      "execution_count": 22,
      "metadata": {
        "colab": {
          "base_uri": "https://localhost:8080/",
          "height": 54
        },
        "colab_type": "code",
        "id": "auqZH6m-GVwA",
        "outputId": "bd4f673e-6d2b-454d-c24d-a1b98dc6fafa"
      },
      "outputs": [
        {
          "name": "stdout",
          "output_type": "stream",
          "text": [
            "{Federal Reserve policymakers on Wednesday said they will cut back on their stimulus more quickly at a moment of rapid inflation and strong economic growth, capping a challenging year with a pronounced policy pivot that could usher in higher interest rates in 2022.: 7.500000000000002, A policy statement released by the central bank detailed a more rapid end to the monthly bond-buying that the Fed has been using throughout the pandemic to keep money chugging through markets and to bolster growth, just as a fresh set of economic projections showed that policymakers expect to raise interest rates three times next year.: 10.666666666666668, When it comes to the bond-buying program, officials are slashing their purchases by twice as much as they had announced last month, a pace that would put them on track to end the program altogether in March.: 4.666666666666667, That decision came “in light of inflation developments and the further improvement in the labor market,” according to the policy statement.: 4.5, Fed Chair Jerome H. Powell, speaking at a news conference following the Fed's meeting, said a “strengthening labor market and elevated inflation pressures” prompted the central bank to speed up the reductions in asset purchases.: 9.166666666666666, “Economic developments and changes in the outlook warrant this evolution,” Mr. Powell said.: 2.5, He noted that supply chain disruptions have been larger and lasted longer than expected and said price gains will likely continue well into next year.: 2.9999999999999996, Ending the bond-buying program sooner will position the central bank to more quickly raise its policy interest rate — the Fed's more traditional and more powerful tool — if officials decide that doing so is necessary to keep inflation under control.: 8.166666666666668, The Fed's economic projections suggested a faster pace of rate increases as the economy recovers.: 3.6666666666666665, Rates are currently set near-zero and officials project rates to stand at 2.1 percent at the end of 2024.: 2.666666666666667, “With inflation having exceeded 2 percent for some time, the committee expects it will be appropriate to maintain this target range until labor market conditions have reached levels consistent with the committee's assessments of maximum employment,” the Fed said in its new statement — putting the onus for rate increases squarely on labor market progress.: 10.666666666666664}\n"
          ]
        }
      ],
      "source": [
        "sent_strength={}\n",
        "for sent in doc.sents:\n",
        "    for word in sent:\n",
        "        if word.text in freq_word.keys():\n",
        "            if sent in sent_strength.keys():\n",
        "                sent_strength[sent]+=freq_word[word.text]\n",
        "            else:\n",
        "                sent_strength[sent]=freq_word[word.text]\n",
        "print(sent_strength)"
      ]
    },
    {
      "cell_type": "code",
      "execution_count": 23,
      "metadata": {
        "colab": {
          "base_uri": "https://localhost:8080/",
          "height": 34
        },
        "colab_type": "code",
        "id": "nYLY3u1w5cJ3",
        "outputId": "b98504cf-84af-4847-bcd1-5c6def1fe116"
      },
      "outputs": [
        {
          "name": "stdout",
          "output_type": "stream",
          "text": [
            "\n"
          ]
        }
      ],
      "source": [
        "print(\"\")"
      ]
    },
    {
      "cell_type": "code",
      "execution_count": 24,
      "metadata": {
        "colab": {
          "base_uri": "https://localhost:8080/",
          "height": 54
        },
        "colab_type": "code",
        "id": "elzzchU0GVwE",
        "outputId": "b35668e3-2046-42ec-ec5a-89237a1815a9"
      },
      "outputs": [
        {
          "name": "stdout",
          "output_type": "stream",
          "text": [
            "[A policy statement released by the central bank detailed a more rapid end to the monthly bond-buying that the Fed has been using throughout the pandemic to keep money chugging through markets and to bolster growth, just as a fresh set of economic projections showed that policymakers expect to raise interest rates three times next year., “With inflation having exceeded 2 percent for some time, the committee expects it will be appropriate to maintain this target range until labor market conditions have reached levels consistent with the committee's assessments of maximum employment,” the Fed said in its new statement — putting the onus for rate increases squarely on labor market progress., Fed Chair Jerome H. Powell, speaking at a news conference following the Fed's meeting, said a “strengthening labor market and elevated inflation pressures” prompted the central bank to speed up the reductions in asset purchases.]\n"
          ]
        }
      ],
      "source": [
        "summarized_sentences = nlargest(3, sent_strength, key=sent_strength.get)\n",
        "print(summarized_sentences)"
      ]
    },
    {
      "cell_type": "code",
      "execution_count": 25,
      "metadata": {
        "colab": {
          "base_uri": "https://localhost:8080/",
          "height": 34
        },
        "colab_type": "code",
        "id": "9zz9oby3GVwM",
        "outputId": "1a4b5075-3733-4ed3-a574-6dbcd2fa56a2"
      },
      "outputs": [
        {
          "name": "stdout",
          "output_type": "stream",
          "text": [
            "<class 'spacy.tokens.span.Span'>\n"
          ]
        }
      ],
      "source": [
        "print(type(summarized_sentences[0]))"
      ]
    },
    {
      "cell_type": "code",
      "execution_count": 26,
      "metadata": {
        "colab": {
          "base_uri": "https://localhost:8080/",
          "height": 54
        },
        "colab_type": "code",
        "id": "HycTgpK-GVwQ",
        "outputId": "b228e1cc-cd2e-4cc2-c1e6-11ce5ef58f3c"
      },
      "outputs": [
        {
          "name": "stdout",
          "output_type": "stream",
          "text": [
            "A policy statement released by the central bank detailed a more rapid end to the monthly bond-buying that the Fed has been using throughout the pandemic to keep money chugging through markets and to bolster growth, just as a fresh set of economic projections showed that policymakers expect to raise interest rates three times next year. “With inflation having exceeded 2 percent for some time, the committee expects it will be appropriate to maintain this target range until labor market conditions have reached levels consistent with the committee's assessments of maximum employment,” the Fed said in its new statement — putting the onus for rate increases squarely on labor market progress. Fed Chair Jerome H. Powell, speaking at a news conference following the Fed's meeting, said a “strengthening labor market and elevated inflation pressures” prompted the central bank to speed up the reductions in asset purchases.\n"
          ]
        }
      ],
      "source": [
        "final_sentences = [ w.text for w in summarized_sentences ]\n",
        "summary = ' '.join(final_sentences)\n",
        "print(summary)"
      ]
    },
    {
      "cell_type": "code",
      "execution_count": null,
      "metadata": {},
      "outputs": [],
      "source": []
    },
    {
      "cell_type": "code",
      "execution_count": null,
      "metadata": {},
      "outputs": [],
      "source": []
    }
  ],
  "metadata": {
    "colab": {
      "name": "Summarisation using spaCy.ipynb",
      "provenance": []
    },
    "kernelspec": {
      "display_name": "Python 3",
      "language": "python",
      "name": "python3"
    },
    "language_info": {
      "codemirror_mode": {
        "name": "ipython",
        "version": 3
      },
      "file_extension": ".py",
      "mimetype": "text/x-python",
      "name": "python",
      "nbconvert_exporter": "python",
      "pygments_lexer": "ipython3",
      "version": "3.9.7"
    }
  },
  "nbformat": 4,
  "nbformat_minor": 0
}
